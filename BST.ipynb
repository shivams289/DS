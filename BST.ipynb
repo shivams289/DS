{
  "nbformat": 4,
  "nbformat_minor": 0,
  "metadata": {
    "colab": {
      "name": "BST.ipynb",
      "provenance": [],
      "authorship_tag": "ABX9TyMlhBDVUwcbI/aqfoCQu3my",
      "include_colab_link": true
    },
    "kernelspec": {
      "name": "python3",
      "display_name": "Python 3"
    },
    "language_info": {
      "name": "python"
    }
  },
  "cells": [
    {
      "cell_type": "markdown",
      "metadata": {
        "id": "view-in-github",
        "colab_type": "text"
      },
      "source": [
        "<a href=\"https://colab.research.google.com/github/shivams289/DS_Algo/blob/main/BST.ipynb\" target=\"_parent\"><img src=\"https://colab.research.google.com/assets/colab-badge.svg\" alt=\"Open In Colab\"/></a>"
      ]
    },
    {
      "cell_type": "markdown",
      "metadata": {
        "id": "W8T8GcVE7Rrf"
      },
      "source": [
        "#Binary Tree\n",
        "\n",
        "1.   At Max 2 Nodes\n",
        "\n",
        "#Binary Search Tree\n",
        "\n",
        "1.   **Unique elements**\n",
        "2.   Left side all less than parent\n",
        "3.   Right side all more than parent\n",
        "4.   Search space is reduced by 1/2 every time\n",
        "5.   Time Complexity : `O(logn)` for search, insertion\n",
        "\n",
        "#Search Approaches/Traversal Techniques\n",
        "\n",
        "\n",
        "*   Breadth First Search (BFS)\n",
        "*   Depth First Search(DFS) \n",
        "      1.   In order : Left subtree first(smaller values), **Returns Sorted elements**\n",
        "      2.   Pre - order: Start at Parent , then left then right\n",
        "      3.   Post Order: 1st left, then right then parent\n",
        "\n",
        "\n",
        "---\n",
        "\n",
        "\n",
        "\n",
        "\n",
        "\n",
        "\n",
        "\n",
        "\n",
        "\n",
        "\n",
        "\n",
        "\n",
        "\n",
        "\n",
        "\n",
        "\n",
        "\n",
        "\n",
        "\n",
        "\n"
      ]
    },
    {
      "cell_type": "code",
      "metadata": {
        "id": "gz6eFnad7J03"
      },
      "source": [
        "class BinarySearchTreeNode:\n",
        "  def __init__(self,data):\n",
        "    self.data = data\n",
        "    self.left = None\n",
        "    self.right = None\n",
        "\n",
        "  def add_child(self, data):\n",
        "    if data == self.data:\n",
        "      return\n",
        "    if data < self.data:\n",
        "      #add data in left subtree\n",
        "      if self.left:\n",
        "        self.left.add_child(data)\n",
        "      else:\n",
        "        self.left = BinarySearchTreeNode(data)\n",
        "\n",
        "    else:\n",
        "      #add data in right subtree\n",
        "       if self.right:\n",
        "        self.right.add_child(data)\n",
        "       else:\n",
        "        self.right = BinarySearchTreeNode(data)\n",
        "\n",
        "# Method to do inorder traversal and return elements in this way\n",
        "  def in_order_traversal(self):\n",
        "    elements = [ ]\n",
        "\n",
        "    #Left tree first\n",
        "    if self.left:\n",
        "      elements += self.left.in_order_traversal()     #Recursion\n",
        "\n",
        "    #Visit Parent\n",
        "    elements.append(self.data)\n",
        "\n",
        "    #Visit right tree\n",
        "    if self.right:\n",
        "      elements += self.right.in_order_traversal()  # Recursion\n",
        "    return elements  \n",
        "\n",
        "#Method to do Searching for an elements\n",
        "  def search(self, val):\n",
        "    if self.data == val:\n",
        "      return True\n",
        "\n",
        "    if val < self.data:\n",
        "      #val might be in left subtree\n",
        "      if self.left:\n",
        "        return self.left.search(val)      # Recursion\n",
        "      else:\n",
        "        return False\n",
        "\n",
        "\n",
        "    if val > self.data:\n",
        "      #val might be right subtree\n",
        "      if self.right:\n",
        "        return self.right.search(val)\n",
        "      else:\n",
        "        return False\n",
        "\n",
        "\n"
      ],
      "execution_count": 14,
      "outputs": []
    },
    {
      "cell_type": "code",
      "metadata": {
        "id": "rTRHiwCH-ECy"
      },
      "source": [
        "#Function to build binary tree\n",
        "def build_tree(elements):\n",
        "  root = BinarySearchTreeNode(elements[0])\n",
        "  for i in range(1, len(elements)):\n",
        "    root.add_child(elements[i])\n",
        "\n",
        "  return root"
      ],
      "execution_count": 15,
      "outputs": []
    },
    {
      "cell_type": "code",
      "metadata": {
        "colab": {
          "base_uri": "https://localhost:8080/"
        },
        "id": "o4eoxIUF-EFp",
        "outputId": "68826496-9755-4e2e-c301-c508b4c679b4"
      },
      "source": [
        "if __name__ == \"__main__\":\n",
        "  numbers = [19,2,3,4,5,6,8,9,16]\n",
        "  numbers_tree = build_tree(numbers)\n",
        "  print(numbers_tree.in_order_traversal())\n",
        "  print(numbers_tree.search(20))\n"
      ],
      "execution_count": 17,
      "outputs": [
        {
          "output_type": "stream",
          "text": [
            "[2, 3, 4, 5, 6, 8, 9, 16, 19]\n",
            "False\n"
          ],
          "name": "stdout"
        }
      ]
    },
    {
      "cell_type": "code",
      "metadata": {
        "id": "fR5_rSLj-EIO"
      },
      "source": [
        ""
      ],
      "execution_count": 16,
      "outputs": []
    },
    {
      "cell_type": "code",
      "metadata": {
        "id": "mWt1LieQ-ELC"
      },
      "source": [
        ""
      ],
      "execution_count": 16,
      "outputs": []
    }
  ]
}