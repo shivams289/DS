{
  "nbformat": 4,
  "nbformat_minor": 0,
  "metadata": {
    "colab": {
      "name": "LinkedList.ipynb",
      "provenance": [],
      "authorship_tag": "ABX9TyOIkLrpH4T/YTHWJa63lhfA",
      "include_colab_link": true
    },
    "kernelspec": {
      "name": "python3",
      "display_name": "Python 3"
    },
    "language_info": {
      "name": "python"
    }
  },
  "cells": [
    {
      "cell_type": "markdown",
      "metadata": {
        "id": "view-in-github",
        "colab_type": "text"
      },
      "source": [
        "<a href=\"https://colab.research.google.com/github/shivams289/DS_Algo/blob/main/LinkedList.ipynb\" target=\"_parent\"><img src=\"https://colab.research.google.com/assets/colab-badge.svg\" alt=\"Open In Colab\"/></a>"
      ]
    },
    {
      "cell_type": "code",
      "metadata": {
        "id": "VtjqlXTrQuJ0"
      },
      "source": [
        "class Node:\n",
        "  def __init__(self, data = None , next = None):\n",
        "    self.data = data \n",
        "    self.next = next\n",
        "\n",
        "\n",
        "class LinkedList:\n",
        "  def __init__(self):\n",
        "    self.head = None\n",
        "\n",
        "#Method to insert values at the begining\n",
        "  def insert_at_begin(self, data):\n",
        "    node = Node(data, self.head)\n",
        "    self.head = node\n",
        "\n",
        "#Method to print the linked list values\n",
        "  def print(self):\n",
        "    if self.head is None:\n",
        "      print('EMPTY')\n",
        "      return \n",
        "\n",
        "    itr = self.head\n",
        "    llstr = ''\n",
        "    while itr:\n",
        "      llstr += str(itr.data)+ '-->'\n",
        "      itr = itr.next\n",
        "    print(llstr)\n",
        "\n",
        "#Method to insert Values at the end of LinkedList\n",
        "  def insert_at_end(self, data):\n",
        "    if self.head is None:\n",
        "      self.head = Node(data, None)\n",
        "      return\n",
        "\n",
        "    itr = self.head\n",
        "    while itr.next:\n",
        "      itr = itr.next\n",
        "      \n",
        "    itr.next = Node(data, None)\n",
        "  \n",
        "#Method to insert values of a list in a linked list \n",
        "  def insert_values(self, data_list):\n",
        "    self.head = None\n",
        "    for data in data_list:\n",
        "      self.insert_at_end(data)\n",
        "\n",
        "# Method to get the length of LinkdeList\n",
        "  def get_length(self):\n",
        "    count = 0\n",
        "    itr = self.head\n",
        "    while itr:\n",
        "      count +=1\n",
        "      itr = itr.next\n",
        "\n",
        "    return count\n",
        "\n",
        "#Method to remove an element by its index\n",
        "  def remove_at(self, index):\n",
        "    if index <0 or index >= self.get_length():\n",
        "      raise Exception('invalid index')\n",
        "\n",
        "    if index == 0:\n",
        "      self.head = self.head.next  # Python automatically does garbage collection\n",
        "      return\n",
        "    \n",
        "    count = 0\n",
        "    itr = self.head\n",
        "    while itr:\n",
        "      if count == index-1:\n",
        "        itr.next = itr.next.next      #We are shifting wire to next to next element and removing it from next element\n",
        "        break\n",
        "      itr = itr.next     # keep moving to next element till we find the element before our given index element\n",
        "      count += 1\n",
        "\n",
        "#Method for inserting an element at a particular position\n",
        "  def insert_at(self, index, data):\n",
        "    if index <0 or index >= self.get_length():\n",
        "      raise Exception('invalid index')\n",
        "      \n",
        "    if index == 0:\n",
        "      self.insert_at_begin(data)\n",
        "      return\n",
        "\n",
        "    count = 0\n",
        "    itr = self.head\n",
        "    while itr:\n",
        "      if count == index - 1:\n",
        "        node = Node(data, itr.next)\n",
        "        itr.next = node\n",
        "        break\n",
        "\n",
        "      itr = itr.next\n",
        "      count += 1\n"
      ],
      "execution_count": 9,
      "outputs": []
    },
    {
      "cell_type": "code",
      "metadata": {
        "id": "d8kukT_PHqp4",
        "colab": {
          "base_uri": "https://localhost:8080/"
        },
        "outputId": "98fd8d11-0434-4883-9c29-28348b2d3d87"
      },
      "source": [
        "#Driver code\n",
        "if __name__ == '__main__':\n",
        "  ll = LinkedList()\n",
        "\n",
        "  ll.insert_values([1,2,3,4,5,6])\n",
        "\n",
        "  ll.insert_at(3, 99)\n",
        "\n",
        "  ll.insert_at_begin(5)\n",
        "\n",
        "  ll.insert_at_begin(89)\n",
        "\n",
        "  ll.insert_at_end(69)\n",
        "  \n",
        "  print(ll.get_length())\n",
        "  ll.print()"
      ],
      "execution_count": 10,
      "outputs": [
        {
          "output_type": "stream",
          "text": [
            "10\n",
            "89-->5-->1-->2-->3-->99-->4-->5-->6-->69-->\n"
          ],
          "name": "stdout"
        }
      ]
    }
  ]
}