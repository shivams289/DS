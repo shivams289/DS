{
  "nbformat": 4,
  "nbformat_minor": 0,
  "metadata": {
    "colab": {
      "name": "Graph.ipynb",
      "provenance": [],
      "authorship_tag": "ABX9TyOPHjg642LWhpOIrim9jqoK",
      "include_colab_link": true
    },
    "kernelspec": {
      "name": "python3",
      "display_name": "Python 3"
    },
    "language_info": {
      "name": "python"
    }
  },
  "cells": [
    {
      "cell_type": "markdown",
      "metadata": {
        "id": "view-in-github",
        "colab_type": "text"
      },
      "source": [
        "<a href=\"https://colab.research.google.com/github/shivams289/DS_Algo/blob/main/Graph.ipynb\" target=\"_parent\"><img src=\"https://colab.research.google.com/assets/colab-badge.svg\" alt=\"Open In Colab\"/></a>"
      ]
    },
    {
      "cell_type": "code",
      "metadata": {
        "id": "5660DQkIrdnX"
      },
      "source": [
        "class graph:\n",
        "  def __init__(self, edges):\n",
        "    self.edges = edges\n",
        "    self.graph_dict = {}\n",
        "    for start, end in edges:\n",
        "      if start in self.graph_dict:\n",
        "        self.graph_dict[start].append(end) \n",
        "      else:\n",
        "        self.graph_dict[start] = [end]\n",
        "\n",
        "    print('graph dict:', self.graph_dict)\n",
        "\n",
        "#Method to get paths\n",
        "  def get_paths(self, start, end, path = []):\n",
        "    path = path + [start]\n",
        "    if start == end:\n",
        "      return [path]\n",
        "\n",
        "    if start not in self.graph_dict:\n",
        "      return []\n",
        "    \n",
        "    paths = []\n",
        "    for node in self.graph_dict[start]:\n",
        "      if node not in path:\n",
        "        new_paths = self.get_paths(node, end, path)\n",
        "        for p in new_paths:\n",
        "          paths.append(p)\n",
        "\n",
        "    return paths\n",
        "\n",
        "#Method to get shortest paths\n",
        "  def get_shortest_path(self, start, end, path = []):\n",
        "    path = path + [start]\n",
        "    if start == end:\n",
        "      return path\n",
        "\n",
        "    if start not in self.graph_dict:\n",
        "      return None\n",
        "\n",
        "    shortest_path = None\n",
        "    for node in self.graph_dict[start]:\n",
        "      if node not in path:\n",
        "        sp = self.get_shortest_path(node, end, path)\n",
        "        if sp:\n",
        "          if shortest_path is None or len(sp)< len(shortest_path):\n",
        "            shortest_path = sp\n",
        "\n",
        "    return shortest_path\n",
        "\n"
      ],
      "execution_count": 13,
      "outputs": []
    },
    {
      "cell_type": "code",
      "metadata": {
        "colab": {
          "base_uri": "https://localhost:8080/"
        },
        "id": "y_3wS67HsDXA",
        "outputId": "90931edd-295d-4236-b869-9f27f1921088"
      },
      "source": [
        "if __name__==\"__main__\":\n",
        "  routes = [\n",
        "            ('mumbai', 'paris'),\n",
        "            ('mumbai', 'dubai'),\n",
        "            ('paris', 'dubai'),\n",
        "            ('paris', 'new york'),\n",
        "            ('dubai', 'new york'),\n",
        "            ('new york', 'toronto')\n",
        "  ]\n",
        "\n",
        "route_graph = graph(routes)\n",
        "\n",
        "start = \"mumbai\"\n",
        "end = \"new york\"\n",
        "\n",
        "print(f\"All paths between: {start} and {end}: \", route_graph.get_paths(start,end))\n",
        "print(f\"Shortest path between {start} and {end}: \", route_graph.get_shortest_path(start,end))\n"
      ],
      "execution_count": 14,
      "outputs": [
        {
          "output_type": "stream",
          "text": [
            "graph dict: {'mumbai': ['paris', 'dubai'], 'paris': ['dubai', 'new york'], 'dubai': ['new york'], 'new york': ['toronto']}\n",
            "All paths between: mumbai and new york:  [['mumbai', 'paris', 'dubai', 'new york'], ['mumbai', 'paris', 'new york'], ['mumbai', 'dubai', 'new york']]\n",
            "Shortest path between mumbai and new york:  ['mumbai', 'paris', 'new york']\n"
          ],
          "name": "stdout"
        }
      ]
    }
  ]
}